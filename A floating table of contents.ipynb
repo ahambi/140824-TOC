{
 "metadata": {
  "kernelspec": {
   "codemirror_mode": {
    "name": "ipython",
    "version": 2
   },
   "display_name": "IPython (Python 2)",
   "language": "python",
   "name": "python2"
  },
  "name": "",
  "signature": "sha256:d9860c22861c6ef2f42ce5ce51cbaf90523b3bb58c6b24176632dba5d571ae4e"
 },
 "nbformat": 3,
 "nbformat_minor": 0,
 "worksheets": [
  {
   "cells": [
    {
     "cell_type": "heading",
     "level": 1,
     "metadata": {},
     "source": [
      "Readme"
     ]
    },
    {
     "cell_type": "heading",
     "level": 2,
     "metadata": {},
     "source": [
      "About this notebook"
     ]
    },
    {
     "cell_type": "markdown",
     "metadata": {},
     "source": [
      "In Windows this notebook generates three files in an existing IPython Notebook profile 'customcss' which can be loaded when starting the IPython Notebook (see usage)."
     ]
    },
    {
     "cell_type": "markdown",
     "metadata": {},
     "source": [
      "The generated files are\n",
      "\n",
      "    toc.css\n",
      "    toc.js\n",
      "    custom.js"
     ]
    },
    {
     "cell_type": "markdown",
     "metadata": {},
     "source": [
      "All the code in toc.css, toc.js and custom.js is written by <b>minrk</b>:\n",
      "\n",
      "https://github.com/minrk/ipython_extensions"
     ]
    },
    {
     "cell_type": "heading",
     "level": 3,
     "metadata": {},
     "source": [
      "In Linux"
     ]
    },
    {
     "cell_type": "markdown",
     "metadata": {},
     "source": [
      "In Linux, all <code>%%cmd</code>-magics should be replaced by <code>%%bash</code>-magics - then this notebook should also work in Linux. But this is <font color=#8AC007>not tested</font>."
     ]
    },
    {
     "cell_type": "heading",
     "level": 3,
     "metadata": {},
     "source": [
      "What you need to do"
     ]
    },
    {
     "cell_type": "markdown",
     "metadata": {},
     "source": [
      "<ol>\n",
      "<li>Execute the cell called <code>###find mypath###</code> in the section 'mypath'\n",
      "<li>Have a look at <code>mypath</code> in the step \"Locate your profile\", for me it reads: <code>'C:\\Users\\annahambi'</code></li>\n",
      "<li>Go to the folder <code>mypath</code> and make sure the following folder-order exists inside it\n",
      "\n",
      "<code>mypath/profile_customcss/static/custom/nbextensions </code>.\n",
      "\n",
      "You might need to make the folder 'static', inside it the folder 'custom' and inside 'custom' the folder 'nbextensions'.\n",
      "</li>\n",
      "<li>Substitute the path you found in 'mypath' in the first line of 'toc.css', 'toc.js' and 'custom.css', such that they read similar to:\n",
      "<code>%%file C:/Users/annahambi/.ipython/profile_customcss/static/custom/nbextensions/toc.css</code>, i.e. substitute the <code>'C:/Users/annahambi'</code>-part with your <code>mypath</code>-part\n",
      "<li> Run all cells in this notebook </li>\n",
      "<li> Restart your IPython Server and you should see the nice, floating table of contents : ) </li>\n",
      "</ol>"
     ]
    },
    {
     "cell_type": "heading",
     "level": 3,
     "metadata": {},
     "source": [
      "Usage"
     ]
    },
    {
     "cell_type": "markdown",
     "metadata": {},
     "source": [
      "Start the IPython Notebook server like this:"
     ]
    },
    {
     "cell_type": "raw",
     "metadata": {},
     "source": [
      ">>>>ipython notebook --profile customcss"
     ]
    },
    {
     "cell_type": "markdown",
     "metadata": {},
     "source": [
      "<ul>\n",
      "<li>When a heading is added, the document needs to be saved and reloaded (press F5) >> then the new heading appears in the 'Contents'</li>\n",
      "<li>The floating table of contents should look as shown in the html-version of this notebook.\n",
      "</ul>"
     ]
    },
    {
     "cell_type": "heading",
     "level": 1,
     "metadata": {},
     "source": [
      "Customcss-profile-generation: Step by step"
     ]
    },
    {
     "cell_type": "heading",
     "level": 2,
     "metadata": {},
     "source": [
      "mypath"
     ]
    },
    {
     "cell_type": "code",
     "collapsed": false,
     "input": [
      "import os\n",
      "\n",
      "mypath = !ipython locate\n",
      "print os.path.dirname(mypath[0]) # output >> 'C:\\Users\\annahambi'"
     ],
     "language": "python",
     "metadata": {},
     "outputs": [
      {
       "output_type": "stream",
       "stream": "stdout",
       "text": [
        "C:\\Users\\Admin\n"
       ]
      }
     ],
     "prompt_number": 5
    },
    {
     "cell_type": "heading",
     "level": 2,
     "metadata": {},
     "source": [
      "Create the profile customcss"
     ]
    },
    {
     "cell_type": "code",
     "collapsed": false,
     "input": [
      "!ipython profile create customcss"
     ],
     "language": "python",
     "metadata": {},
     "outputs": [],
     "prompt_number": 6
    },
    {
     "cell_type": "heading",
     "level": 2,
     "metadata": {},
     "source": [
      "toc.css"
     ]
    },
    {
     "cell_type": "code",
     "collapsed": false,
     "input": [
      "%%file C:/Users/Admin/.ipython/profile_customcss/static/custom/nbextensions/toc.css\n",
      "\n",
      "/*extracted from https://gist.github.com/magican/5574556*/\n",
      "#toc {\n",
      "  overflow-y: scroll;\n",
      "  max-height: 300px;\n",
      "\n",
      "  ol.nested {\n",
      "    counter-reset: item;\n",
      "    list-style: none;\n",
      "  }\n",
      "  li.nested {\n",
      "    display: block;\n",
      "  }\n",
      "  li.nested:before {\n",
      "    counter-increment: item;\n",
      "    content: counters(item, \".\")\" \";\n",
      "  }\n",
      "}\n",
      "\n",
      "#toc-wrapper {\n",
      "  position: fixed;\n",
      "  top: 120px;\n",
      "  max-width:430px;\n",
      "  right: 20px;\n",
      "  border: thin solid rgba(0, 0, 0, 0.38);\n",
      "  border-radius: 5px;\n",
      "  padding:10px;\n",
      "  background-color: #fff;\n",
      "  opacity: .8;\n",
      "  z-index: 100;\n",
      "}\n",
      "\n",
      "#toc-wrapper.closed {\n",
      "  min-width: 100px;\n",
      "  width: auto;\n",
      "  transition: width;\n",
      "}\n",
      "#toc-wrapper:hover{\n",
      "  opacity: 1;\n",
      "}\n",
      "#toc-wrapper .header {\n",
      "  font-size: 18px;\n",
      "  font-weight: bold;\n",
      "}\n",
      "#toc-wrapper .hide-btn {\n",
      "  font-size: 14px;\n",
      "  font-family: monospace;\n",
      "}"
     ],
     "language": "python",
     "metadata": {},
     "outputs": [
      {
       "output_type": "stream",
       "stream": "stdout",
       "text": [
        "Writing C:/Users/Admin/.ipython/profile_customcss/static/custom/nbextensions/toc.css\n"
       ]
      }
     ],
     "prompt_number": 7
    },
    {
     "cell_type": "heading",
     "level": 2,
     "metadata": {},
     "source": [
      "toc.js"
     ]
    },
    {
     "cell_type": "code",
     "collapsed": false,
     "input": [
      "%%file C:/Users/Admin/.ipython/profile_customcss/static/custom/nbextensions/toc.js\n",
      "define([\"require\"], function (require) {\n",
      "  \"use strict\";\n",
      "\n",
      "  var clone_anchor = function (element) {\n",
      "    // clone link\n",
      "    var h = element.find(\"div.text_cell_render\").find(':header').first();\n",
      "    var a = h.find('a').clone();\n",
      "    var new_a = $(\"<a>\");\n",
      "    new_a.attr(\"href\", a.attr(\"href\"));\n",
      "    // get the text *excluding* the link text, whatever it may be\n",
      "    var hclone = h.clone();\n",
      "    hclone.children().remove();\n",
      "    new_a.text(hclone.text());\n",
      "    return new_a;\n",
      "  };\n",
      "\n",
      "  var ol_depth = function (element) {\n",
      "    // get depth of nested ol\n",
      "    var d = 0;\n",
      "    while (element.prop(\"tagName\").toLowerCase() == 'ol') {\n",
      "      d += 1;\n",
      "      element = element.parent();\n",
      "    }\n",
      "    return d;\n",
      "  };\n",
      "  \n",
      "  var create_toc_div = function () {\n",
      "    var toc_wrapper = $('<div id=\"toc-wrapper\"/>')\n",
      "    .append(\n",
      "      $(\"<div/>\")\n",
      "      .addClass(\"header\")\n",
      "      .text(\"Contents \")\n",
      "      .click( function(){\n",
      "        console.log(this);\n",
      "        $('#toc').slideToggle();\n",
      "        $('#toc-wrapper').toggleClass('closed');\n",
      "        if ($('#toc-wrapper').hasClass('closed')){\n",
      "          $('#toc-wrapper .hide-btn').text('[+]');\n",
      "        } else {\n",
      "          $('#toc-wrapper .hide-btn').text('[-]');\n",
      "        }\n",
      "        return false;\n",
      "      }).append(\n",
      "        $(\"<a/>\")\n",
      "        .attr(\"href\", \"#\")\n",
      "        .addClass(\"hide-btn\")\n",
      "        .text(\"[-]\")\n",
      "      )\n",
      "    ).append(\n",
      "        $(\"<div/>\").attr(\"id\", \"toc\")\n",
      "    );\n",
      "    $(\"body\").append(toc_wrapper);\n",
      "  };\n",
      "\n",
      "  var table_of_contents = function (threshold) {\n",
      "    if (threshold === undefined) {\n",
      "      threshold = 4;\n",
      "    }\n",
      "    var cells = IPython.notebook.get_cells();\n",
      "      \n",
      "    var toc_wrapper = $(\"#toc-wrapper\");\n",
      "    if (toc_wrapper.length === 0) {\n",
      "      create_toc_div();\n",
      "    }\n",
      "  \n",
      "    var ol = $(\"<ol/>\");\n",
      "    $(\"#toc\").empty().append(ol);\n",
      "  \n",
      "    for (var i=0; i < cells.length; i++) {\n",
      "      var cell = cells[i];\n",
      "    \n",
      "      if (cell.cell_type !== 'heading') continue;\n",
      "    \n",
      "      var level = cell.level;\n",
      "      if (level > threshold) continue;\n",
      "    \n",
      "      var depth = ol_depth(ol);\n",
      "\n",
      "      // walk down levels\n",
      "      for (; depth < level; depth++) {\n",
      "        var new_ol = $(\"<ol/>\");\n",
      "        ol.append(new_ol);\n",
      "        ol = new_ol;\n",
      "      }\n",
      "      // walk up levels\n",
      "      for (; depth > level; depth--) {\n",
      "        ol = ol.parent();\n",
      "      }\n",
      "      //\n",
      "      ol.append(\n",
      "        $(\"<li/>\").append(clone_anchor(cell.element))\n",
      "      );\n",
      "    }\n",
      "\n",
      "    $(window).resize(function(){\n",
      "      $('#toc').css({maxHeight: $(window).height() - 200});\n",
      "    });\n",
      "\n",
      "    $(window).trigger('resize');\n",
      "  };\n",
      "    \n",
      "  var toggle_toc = function () {\n",
      "    // toggle draw (first because of first-click behavior)\n",
      "    $(\"#toc-wrapper\").toggle();\n",
      "    // recompute:\n",
      "    table_of_contents();\n",
      "  };\n",
      "  \n",
      "  var toc_button = function () {\n",
      "    if (!IPython.toolbar) {\n",
      "      $([IPython.events]).on(\"app_initialized.NotebookApp\", toc_button);\n",
      "      return;\n",
      "    }\n",
      "    if ($(\"#toc_button\").length === 0) {\n",
      "      IPython.toolbar.add_buttons_group([\n",
      "        {\n",
      "          'label'   : 'Table of Contents',\n",
      "          'icon'    : 'icon-list',\n",
      "          'callback': toggle_toc,\n",
      "          'id'      : 'toc_button'\n",
      "        },\n",
      "      ]);\n",
      "    }\n",
      "  };\n",
      "  \n",
      "  var load_css = function () {\n",
      "    var link = document.createElement(\"link\");\n",
      "    link.type = \"text/css\";\n",
      "    link.rel = \"stylesheet\";\n",
      "    link.href = require.toUrl(\"./toc.css\");\n",
      "    console.log(link);\n",
      "    document.getElementsByTagName(\"head\")[0].appendChild(link);\n",
      "  };\n",
      "  \n",
      "  var load_ipython_extension = function () {\n",
      "    load_css();\n",
      "    toc_button();\n",
      "    $([IPython.events]).on(\"notebook_loaded.Notebook\", table_of_contents);\n",
      "    console.log('Table of Contents extension loaded');\n",
      "  };\n",
      "\n",
      "  return {\n",
      "    load_ipython_extension : load_ipython_extension,\n",
      "    toggle_toc : toggle_toc,\n",
      "    table_of_contents : table_of_contents,\n",
      "    \n",
      "  };\n",
      "\n",
      "});"
     ],
     "language": "python",
     "metadata": {},
     "outputs": [
      {
       "output_type": "stream",
       "stream": "stdout",
       "text": [
        "Writing C:/Users/Admin/.ipython/profile_customcss/static/custom/nbextensions/toc.js\n"
       ]
      }
     ],
     "prompt_number": 8
    },
    {
     "cell_type": "heading",
     "level": 2,
     "metadata": {},
     "source": [
      "custom.js"
     ]
    },
    {
     "cell_type": "code",
     "collapsed": false,
     "input": [
      "%%file C:/Users/Admin/.ipython/profile_customcss/static/custom/custom.js   \n",
      "\n",
      "require([\"/static/custom/nbextensions/toc.js\"], function (toc) {\n",
      "console.log('Table of Contents extension loaded');\n",
      "toc.load_ipython_extension();\n",
      "$([IPython.events]).on(\"notebook_loaded.Notebook\", toc.table_of_contents);\n",
      "});\n",
      " \n",
      "IPython.load_extensions('toc');"
     ],
     "language": "python",
     "metadata": {},
     "outputs": [
      {
       "output_type": "stream",
       "stream": "stdout",
       "text": [
        "Overwriting C:/Users/Admin/.ipython/profile_customcss/static/custom/custom.js\n"
       ]
      }
     ],
     "prompt_number": 9
    },
    {
     "cell_type": "markdown",
     "metadata": {},
     "source": [
      "<script>\n",
      "require([\"nbextensions/toc\"], function (toc) {\n",
      "console.log('Table of Contents extension loaded');\n",
      "toc.load_ipython_extension();\n",
      "// If you want to load the toc by default, add:\n",
      "// $([IPython.events]).on(\"notebook_loaded.Notebook\", toc.table_of_contents);\n",
      "});\n",
      "<\\script>"
     ]
    },
    {
     "cell_type": "markdown",
     "metadata": {},
     "source": [
      "<script>\n",
      "require([\"nbextensions/toc\"], function (toc) {\n",
      "console.log('Table of Contents extension loaded');\n",
      "toc.load_ipython_extension();\n",
      "<\\script>"
     ]
    }
   ],
   "metadata": {}
  }
 ]
}